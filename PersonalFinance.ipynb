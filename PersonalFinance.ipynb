{
  "nbformat": 4,
  "nbformat_minor": 0,
  "metadata": {
    "colab": {
      "provenance": []
    },
    "kernelspec": {
      "name": "python3",
      "display_name": "Python 3"
    },
    "language_info": {
      "name": "python"
    }
  },
  "cells": [
    {
      "cell_type": "code",
      "source": [
        "from datetime import date\n",
        "from datetime import timedelta\n",
        "today = date.today()"
      ],
      "metadata": {
        "id": "WxQ6Q_Dr_YDz"
      },
      "execution_count": 2,
      "outputs": []
    },
    {
      "cell_type": "code",
      "execution_count": 3,
      "metadata": {
        "id": "_6IGupI_97Gp"
      },
      "outputs": [],
      "source": [
        "def future_value(amount, time, interest_rate, inflation_rate):\n",
        "    future_value = amount * ((1 + interest_rate/12) ** time) / (1 + inflation_rate/12)**time\n",
        "    return future_value\n",
        "\n",
        "def calculate_months(d1, d2):\n",
        "    return round((d2-d1).total_seconds()/(60*60*24*30))\n",
        "\n",
        "def calculate_emi(loan_amount, interest_rate, loan_tenure):\n",
        "    emi = loan_amount * (interest_rate / 12) * ((1 + (interest_rate / 12)) ** loan_tenure) / ((1 + (interest_rate / 12)) ** loan_tenure - 1)\n",
        "    return emi"
      ]
    },
    {
      "cell_type": "markdown",
      "source": [
        "#start saving for a goal today\n",
        "\n",
        "You know you have a major expense roughly 10 years from now. If you had to fulfill that goal today, you'd need INR X. But it won't be the same 10 years from now. So how much should you be saving every month starting today to be in a position to manage the expense in future?"
      ],
      "metadata": {
        "id": "WLqb68NJNxmv"
      }
    },
    {
      "cell_type": "code",
      "source": [
        "gM_amount = 1000000\n",
        "# gM_amount = how much will that goal cost you today?\n",
        "\n",
        "gM_date = date(2033, 6, 3)\n",
        "# gM_date = by when do you want to achieve the goal?\n",
        "\n",
        "c = calculate_months(today, gM_date)\n",
        "# time to goal\n",
        "\n",
        "fv_gm = round(future_value(gM_amount, c, 0.05,0.07))\n",
        "# given inflation (0.05), interest rate (0.07), what is the adjusted future value of this goal\n",
        "\n",
        "saving_pm = round(fv_gm/c)\n",
        "# savings per month = adjusted fv / time\n",
        "\n",
        "print(saving_pm)"
      ],
      "metadata": {
        "colab": {
          "base_uri": "https://localhost:8080/"
        },
        "id": "V-bmw3OZ-qlF",
        "outputId": "884b92c9-f909-4fda-c407-51e21c12dcef"
      },
      "execution_count": 4,
      "outputs": [
        {
          "output_type": "stream",
          "name": "stdout",
          "text": [
            "6695\n"
          ]
        }
      ]
    },
    {
      "cell_type": "markdown",
      "source": [
        "# pay off your debt\n",
        "\n",
        "You want to pay off a debt of amount X in next Y years. What would be the EMI amount to do so?"
      ],
      "metadata": {
        "id": "QtzSglC1N5wF"
      }
    },
    {
      "cell_type": "code",
      "source": [
        "gH_amount = 1000000\n",
        "# gH_amount = debt amount\n",
        "\n",
        "payby_date = date(2033, 6, 3)\n",
        "# gM_date = by when do you want to pay off the debt?\n",
        "\n",
        "c = calculate_months(today, payby_date)\n",
        "# time to pay off\n",
        "\n",
        "emi = round(calculate_emi(gH_amount, 0.1, c))\n",
        "# given interest (0.1) what is the emi you'll be paying \n",
        "\n",
        "print(emi)"
      ],
      "metadata": {
        "colab": {
          "base_uri": "https://localhost:8080/"
        },
        "id": "cBNDVp5eHtnQ",
        "outputId": "b49c14ff-d535-441a-8132-4ba6df6838cb"
      },
      "execution_count": null,
      "outputs": [
        {
          "output_type": "stream",
          "name": "stdout",
          "text": [
            "879159\n"
          ]
        }
      ]
    },
    {
      "cell_type": "markdown",
      "source": [
        "# plan your retirement\n",
        "\n",
        "Given a corpus amount of INR X, how much can you withdraw comfortably every month?"
      ],
      "metadata": {
        "id": "OaEYRE3yODLN"
      }
    },
    {
      "cell_type": "code",
      "source": [
        "corpus = 50000000\n",
        "#amount you have on retirement\n",
        "\n",
        "interest = 0.09 \n",
        "#interest on the corpus\n",
        "\n",
        "inflation = 0.05\n",
        "\n",
        "monthly_take_out = round(corpus * (interest - inflation)/12)\n",
        "\n",
        "print(monthly_take_out)"
      ],
      "metadata": {
        "colab": {
          "base_uri": "https://localhost:8080/"
        },
        "id": "EwWJ3VDFOB9p",
        "outputId": "ebe09f5a-a2b3-488b-f363-316ab21b5079"
      },
      "execution_count": 5,
      "outputs": [
        {
          "output_type": "stream",
          "name": "stdout",
          "text": [
            "166667\n"
          ]
        }
      ]
    },
    {
      "cell_type": "markdown",
      "source": [
        "# Where do I invest\n",
        "\n",
        "\n",
        "Depends on:\n",
        "1.   Risk appetite - generally decreases with age (need for stability)\n",
        "2.   Corpus size, access to instruments, and goals.\n",
        "\n",
        "General Principles:\n",
        "1. Keep an emergency fund aside (~6 * monthly expense).\n",
        "2. Make paying back any debt a priority.\n",
        "3. Get a health insurance.\n",
        "4. After (1), (2), (3); define your financial goals.\n",
        "5. Savings for a near term goal (~1 year or less) can generally be kept liquid.\n",
        "6. For a slightly longer term goal (1-4 years) opt in for FDs / bonds.\n",
        "7. For longer term goals (5+ years) equity works just fine. Passive investing works best for most people.\n",
        "8. Hedge your investments with gold (hardest money ever)."
      ],
      "metadata": {
        "id": "OCh7_g2dVBpY"
      }
    }
  ]
}